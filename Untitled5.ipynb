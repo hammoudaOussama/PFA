{
  "nbformat": 4,
  "nbformat_minor": 0,
  "metadata": {
    "colab": {
      "provenance": [],
      "authorship_tag": "ABX9TyPn9TuNSC1Y1ZX7TNzFJnQ7",
      "include_colab_link": true
    },
    "kernelspec": {
      "name": "python3",
      "display_name": "Python 3"
    },
    "language_info": {
      "name": "python"
    }
  },
  "cells": [
    {
      "cell_type": "markdown",
      "metadata": {
        "id": "view-in-github",
        "colab_type": "text"
      },
      "source": [
        "<a href=\"https://colab.research.google.com/github/hammoudaOussama/PFA/blob/main/Untitled5.ipynb\" target=\"_parent\"><img src=\"https://colab.research.google.com/assets/colab-badge.svg\" alt=\"Open In Colab\"/></a>"
      ]
    },
    {
      "cell_type": "code",
      "execution_count": null,
      "metadata": {
        "id": "2GOZD-bI1AX5"
      },
      "outputs": [],
      "source": [
        "from sklearn.model_selection import train_test_split\n",
        "\n",
        "# Division des données\n",
        "x_train, x_test, y_train, y_test = train_test_split(X, y, test_size=0.2, random_state=42)\n"
      ]
    },
    {
      "cell_type": "code",
      "source": [
        "from sklearn.linear_model import LinearRegression\n",
        "from sklearn.metrics import mean_squared_error, r2_score\n",
        "\n",
        "# Modèle de régression linéaire\n",
        "lin_reg = LinearRegression()\n",
        "lin_reg.fit(x_train, y_train)\n",
        "\n",
        "# Prédictions et évaluation\n",
        "y_pred_lin = lin_reg.predict(x_test)\n",
        "mse_lin = mean_squared_error(y_test, y_pred_lin)\n",
        "r2_lin = r2_score(y_test, y_pred_lin)\n",
        "print(f\"MSE: {mse_lin}, R2: {r2_lin}\")\n"
      ],
      "metadata": {
        "id": "iggi__v71B7A"
      },
      "execution_count": null,
      "outputs": []
    },
    {
      "cell_type": "code",
      "source": [
        "from sklearn.neighbors import KNeighborsRegressor\n",
        "\n",
        "# Modèle KNN\n",
        "knn = KNeighborsRegressor(n_neighbors=4)\n",
        "knn.fit(x_train, y_train)\n",
        "\n",
        "# Prédictions et évaluation\n",
        "y_pred_knn = knn.predict(x_test)\n",
        "mse_knn = mean_squared_error(y_test, y_pred_knn)\n",
        "r2_knn = r2_score(y_test, y_pred_knn)\n",
        "print(f\"MSE: {mse_knn}, R2: {r2_knn}\")\n"
      ],
      "metadata": {
        "id": "QrMM7Oea1Ds-"
      },
      "execution_count": null,
      "outputs": []
    },
    {
      "cell_type": "code",
      "source": [
        "from sklearn.tree import DecisionTreeRegressor\n",
        "\n",
        "# Modèle d'arbre de décision\n",
        "tree = DecisionTreeRegressor(random_state=42)\n",
        "tree.fit(x_train, y_train)\n",
        "\n",
        "# Prédictions et évaluation\n",
        "y_pred_tree = tree.predict(x_test)\n",
        "mse_tree = mean_squared_error(y_test, y_pred_tree)\n",
        "r2_tree = r2_score(y_test, y_pred_tree)\n",
        "print(f\"MSE: {mse_tree}, R2: {r2_tree}\")\n"
      ],
      "metadata": {
        "id": "iWZNr2ZV1HNZ"
      },
      "execution_count": null,
      "outputs": []
    },
    {
      "cell_type": "code",
      "source": [
        "from sklearn.linear_model import LogisticRegression\n",
        "\n",
        "# Modèle de régression logistique\n",
        "log_reg = LogisticRegression()\n",
        "log_reg.fit(x_train, y_train)\n",
        "\n",
        "# Prédictions et évaluation\n",
        "y_pred_log = log_reg.predict(x_test)\n",
        "accuracy_log = log_reg.score(x_test, y_test)\n",
        "print(f\"Accuracy: {accuracy_log}\")\n"
      ],
      "metadata": {
        "id": "4aAfbcKo1I-l"
      },
      "execution_count": null,
      "outputs": []
    },
    {
      "cell_type": "code",
      "source": [
        "from sklearn.svm import SVR\n",
        "\n",
        "# Modèle SVM\n",
        "svm = SVR()\n",
        "svm.fit(x_train, y_train)\n",
        "\n",
        "# Prédictions et évaluation\n",
        "y_pred_svm = svm.predict(x_test)\n",
        "mse_svm = mean_squared_error(y_test, y_pred_svm)\n",
        "r2_svm = r2_score(y_test, y_pred_svm)\n",
        "print(f\"MSE: {mse_svm}, R2: {r2_svm}\")\n"
      ],
      "metadata": {
        "id": "AR4iCN781MxO"
      },
      "execution_count": null,
      "outputs": []
    }
  ]
}